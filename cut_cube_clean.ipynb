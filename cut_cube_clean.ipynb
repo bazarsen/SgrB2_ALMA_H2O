{
 "cells": [
  {
   "cell_type": "code",
   "execution_count": 1,
   "metadata": {},
   "outputs": [],
   "source": [
    "import numpy as np"
   ]
  },
  {
   "cell_type": "code",
   "execution_count": 36,
   "metadata": {},
   "outputs": [],
   "source": [
    "# More prone to be changed\n",
    "field = '3' # 3 -- MN, 4 -- MS, 5 -- SDS.\n",
    "niter=1000\n",
    "threshold='5.0mJy'\n",
    "nchan=128 # number of frequency channels to be cleaned per 1 file \n",
    "\n",
    "# Change if needed\n",
    "cell =['0.076arcsec']\n",
    "imsize=4000\n",
    "robust=0\n",
    "\n",
    "# Don't change unless working with other data\n",
    "vis = '18A-229.sb35069722.eb35251150.58205.383514664354.ms'\n",
    "spw='53'\n",
    "specmode='cube'\n",
    "outframe='LSRK'\n",
    "restfreq='22.2331141GHz'\n",
    "perchanweightdensity=True\n",
    "chanchunks=2\n",
    "pblimit=-0.0001\n",
    "weighting='briggs'\n",
    "interactive=False\n",
    "savemodel='none'"
   ]
  },
  {
   "cell_type": "code",
   "execution_count": 37,
   "metadata": {},
   "outputs": [],
   "source": [
    "# I guess this is not very efficient, but will work for now...\n",
    "if field == '3':\n",
    "    n_field = 'MN_'\n",
    "if field == '4':\n",
    "    n_field = 'MS_'\n",
    "if field == '5':\n",
    "    n_field = 'SDS_'"
   ]
  },
  {
   "cell_type": "code",
   "execution_count": 38,
   "metadata": {},
   "outputs": [],
   "source": [
    "n_base='NB_'\n",
    "n_clean = 'c'+str(niter)+'_'\n",
    "n_size = 's'+str(imsize)+'_'\n",
    "n_const = n_base+n_field+n_clean+n_size"
   ]
  },
  {
   "cell_type": "code",
   "execution_count": 39,
   "metadata": {},
   "outputs": [],
   "source": [
    "starts = np.arange(150, 3071, 128)[:-1] # First non empty channel is 154, but I am including extra 4 channels in the first cube\n",
    "# Remove the last starting channel as that cube will only include empty channels."
   ]
  },
  {
   "cell_type": "code",
   "execution_count": 40,
   "metadata": {},
   "outputs": [
    {
     "ename": "SyntaxError",
     "evalue": "invalid syntax (<ipython-input-40-1139486eac54>, line 8)",
     "output_type": "error",
     "traceback": [
      "\u001b[0;36m  File \u001b[0;32m\"<ipython-input-40-1139486eac54>\"\u001b[0;36m, line \u001b[0;32m8\u001b[0m\n\u001b[0;31m    field=field\u001b[0m\n\u001b[0m    ^\u001b[0m\n\u001b[0;31mSyntaxError\u001b[0m\u001b[0;31m:\u001b[0m invalid syntax\n"
     ]
    }
   ],
   "source": [
    "print('Setup completed')\n",
    "total_cubes = len(starts)\n",
    "for i in range(len(starts)):\n",
    "    start = starts[i]\n",
    "    n_fchan = str(start)+'-'+str(start+128-1)\n",
    "    imagename= n_const+n_fchan\n",
    "    \n",
    "    print('Imaging cube '+str(i)+' out ')\n",
    "    \n",
    "    tclean(\n",
    "    vis=vis\n",
    "    field=field\n",
    "    spw=spw\n",
    "    start=start\n",
    "    imagename=imagename\n",
    "    imsize=imsize\n",
    "    cell=cell\n",
    "    specmode=specmode\n",
    "    outframe=outframe\n",
    "    restfreq=restfreq\n",
    "    perchanweightdensity=perchanweightdensity\n",
    "    chanchunks=chanchunks\n",
    "    pblimit=pblimit\n",
    "    weighting=weighting\n",
    "    robust=robust\n",
    "    niter=niter\n",
    "    threshold=threshold\n",
    "    interactive=interactive\n",
    "    savemodel=savemodel\n",
    "    nchan=nchan)"
   ]
  },
  {
   "cell_type": "code",
   "execution_count": null,
   "metadata": {},
   "outputs": [],
   "source": []
  },
  {
   "cell_type": "code",
   "execution_count": null,
   "metadata": {},
   "outputs": [],
   "source": []
  }
 ],
 "metadata": {
  "kernelspec": {
   "display_name": "Python 3",
   "language": "python",
   "name": "python3"
  },
  "language_info": {
   "codemirror_mode": {
    "name": "ipython",
    "version": 3
   },
   "file_extension": ".py",
   "mimetype": "text/x-python",
   "name": "python",
   "nbconvert_exporter": "python",
   "pygments_lexer": "ipython3",
   "version": "3.8.5"
  }
 },
 "nbformat": 4,
 "nbformat_minor": 4
}
